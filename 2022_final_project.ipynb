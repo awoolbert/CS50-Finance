{
  "cells": [
    {
      "cell_type": "markdown",
      "metadata": {
        "id": "view-in-github",
        "colab_type": "text"
      },
      "source": [
        "<a href=\"https://colab.research.google.com/github/awoolbert/CS50-Finance/blob/master/2022_final_project.ipynb\" target=\"_parent\"><img src=\"https://colab.research.google.com/assets/colab-badge.svg\" alt=\"Open In Colab\"/></a>"
      ]
    },
    {
      "cell_type": "markdown",
      "metadata": {
        "id": "z6PeDplw82XF"
      },
      "source": [
        "# 2022 Spring ORF307 Final Project {-}\n",
        "\n",
        "Instructor: Bartolomeo Stellato\n",
        "\n",
        "AI: Rajiv Sambharya, Irina Wang, Vinit Ranjan\n",
        "\n",
        "\n",
        "---\n",
        "\n",
        "\n",
        "## Instructions {-}\n",
        "\n",
        "**Exam files**: the exam files are available to download as a `zip` at [this link](https://www.dropbox.com/s/ev5zr3p7d02clgg/orf307_2022_final_project.zip?dl=0).\n",
        "\n",
        "**Date and time:** from May 5, 2022 at 00:01am to May 7, 2022 at 11:59pm.\n",
        "\n",
        "- Total time after download: 24 hours. No late submissions allowed.\n",
        "\n",
        "\n",
        "## Exam rules {-}\n",
        "\n",
        "- You are allowed to use all course materials on the midterm (lecture notes, books, precept materials, code, and homeworks). But you cannot use internet to search for answers.\n",
        "\n",
        "- You have to justify all your answers. If you use code from the course materials, you have to explain what each step means.\n",
        "\n",
        "- You cannot communicate with anyone during the exam.\n",
        "\n",
        "- No late submissions allowed. Make sure your submission goes through on time. You can resubmit as many times as you like until your time expires.\n",
        "\n",
        "- The exam is to be submitted electronically on Gradescope before 11:59pm. Please follow the [\\texttt{Gradescope guide}](https://gradescope-static-assets.s3-us-west-2.amazonaws.com/help/submitting_hw_guide.pdf) upload the PDF version of your exam.\n",
        "\n",
        "- Please remember to write your name on the first page of your solutions. Right next to it, please write out and sign the following pledge: *\"I pledge my honor that I have not violated the honor code or the rules specified by the instructor during this examination\".*\n",
        "\n",
        "\n",
        "---"
      ]
    },
    {
      "cell_type": "markdown",
      "metadata": {
        "tags": [],
        "id": "DQHwkZql82XI"
      },
      "source": [
        "# Honor Code\n",
        "I pledge my honor that I have not violated the honor code or the rules specified by the instructor during this examination.\n",
        "\n",
        "**Student's name: Avery Woolbert** "
      ]
    },
    {
      "cell_type": "markdown",
      "metadata": {
        "id": "BsXB2tCE82XJ"
      },
      "source": [
        "---"
      ]
    },
    {
      "cell_type": "code",
      "execution_count": 1,
      "metadata": {
        "colab": {
          "base_uri": "https://localhost:8080/"
        },
        "id": "gyciLEvY82XJ",
        "outputId": "e5112f11-73f4-42c6-db7c-5009c1f1077c"
      },
      "outputs": [
        {
          "output_type": "stream",
          "name": "stdout",
          "text": [
            "Looking in indexes: https://pypi.org/simple, https://us-python.pkg.dev/colab-wheels/public/simple/\n",
            "Collecting gurobipy\n",
            "  Downloading gurobipy-10.0.1-cp310-cp310-manylinux2014_x86_64.whl (12.7 MB)\n",
            "\u001b[2K     \u001b[90m━━━━━━━━━━━━━━━━━━━━━━━━━━━━━━━━━━━━━━━━\u001b[0m \u001b[32m12.7/12.7 MB\u001b[0m \u001b[31m36.4 MB/s\u001b[0m eta \u001b[36m0:00:00\u001b[0m\n",
            "\u001b[?25hInstalling collected packages: gurobipy\n",
            "Successfully installed gurobipy-10.0.1\n"
          ]
        }
      ],
      "source": [
        "# Run this cell to install gurobi. \n",
        "# If you are on Colab you need to go to \"Runtime\" -> \"Restart runtime\" afterwards.\n",
        "!pip install gurobipy"
      ]
    },
    {
      "cell_type": "code",
      "execution_count": 2,
      "metadata": {
        "id": "m2SvLDar82XL"
      },
      "outputs": [],
      "source": [
        "import numpy as np\n",
        "np.set_printoptions(precision=2)  # Print few decimal places\n",
        "np.set_printoptions(suppress=True)  # Suppress scientific notation\n",
        "import cvxpy as cp\n",
        "import pandas as pd\n",
        "from numpy.linalg import cholesky as llt\n",
        "import matplotlib.pyplot as plt\n",
        "import networkx as nx"
      ]
    },
    {
      "cell_type": "markdown",
      "metadata": {
        "id": "vvotqfot82XL"
      },
      "source": [
        "# Final exam\n",
        "\n",
        "## Project management\n",
        "Consider a *project management* problem with $n$ tasks and $m$ milestones. We model the problem with network where each arc describes a task and each milestone a node. Graph connections represent precedence relations: if arc $j$ enters node $i$ and arc $k$ exits node $i$, task $k$ cannot start before task $j$ is completed. Our network has two extra nodes:\n",
        "- Node $1$ with only outgoing arcs describing tasks that can start immediately. \n",
        "- Node $m$ with only incoming arcs corresponding to the last tasks required to complete the project.\n",
        "\n",
        "Each task $j$ has a known duration $d_j$ in minutes. For each node $j$ the decision variable $y_j$ is the maximum completion time of all tasks required for milestone $j$. In other words, for each task $j$ connected between nodes $i$ and $\\ell$, we have\n",
        "$$\n",
        "y_i + d_j \\le y_{\\ell}.\n",
        "$$\n",
        "\n",
        "Our goal is to assign the optimal start time of each milestone to minimize the completion time of the entire project \n",
        "$$y_m - y_1.$$\n",
        "\n"
      ]
    },
    {
      "cell_type": "markdown",
      "metadata": {
        "id": "myM_DMO182XM"
      },
      "source": [
        "1. Formulate the project management problem as a linear optimization problem over decisions  $y=(y_1,\\dots,y_m)\\in\\mathbf{R}^{m}$ in terms of vector $e=(1,0,\\dots,0,-1) \\in \\mathbf{R}^m$, vector $d=(d_1,\\dots,d_n) \\in \\mathbf{R}^n$, and matrix $A\\in\\mathbf{R}^{m \\times n}$ being the node-arc incidence matrix of the network defined as\n",
        "$$\n",
        "A_{ij} = \\begin{cases}\n",
        "1 & \\text{if task $j$ starts at milestone $i$}\\\\\n",
        "-1 & \\text{if task $j$ ends at milestone $i$}\\\\\n",
        "0 & \\text{otherwise}.\n",
        "\\end{cases}\n",
        "$$"
      ]
    },
    {
      "cell_type": "markdown",
      "metadata": {
        "id": "Qdl6Aa_H82XM"
      },
      "source": [
        "2. Consider the matrix `A` and vector `d` given below. Formulate the network management problem in cvxpy and solve it. Print optimal primal solution $y^\\star \\in \\mathbf{R}^{m}$,  optimal dual solution $x^\\star \\in \\mathbf{R}^{n}$, and optimal objective. *Note.* To print dual optimal solutions, you can just select one constraints from your list and write `.dual_value`. For example, in case of constraint `0` you can simply write `constraint[0].dual_value`."
      ]
    },
    {
      "cell_type": "code",
      "execution_count": null,
      "metadata": {
        "id": "flj21Jsv82XN"
      },
      "outputs": [],
      "source": [
        "A = np.array([[ 1.,  1.,  1.,  0.,  0.,  0.,  0.,  0.,  0.,  0.,  0.,  0.],\n",
        "              [-1.,  0.,  0.,  1.,  1.,  1.,  0.,  0.,  0.,  0.,  0.,  0.],\n",
        "              [ 0., -1.,  0.,  0.,  0.,  0.,  1.,  0.,  0.,  0.,  0.,  0.],\n",
        "              [ 0.,  0.,  0., -1.,  0.,  0.,  0.,  1.,  0.,  0.,  0.,  0.],\n",
        "              [ 0.,  0.,  0.,  0., -1.,  0., -1.,  0.,  1.,  1.,  0.,  0.],\n",
        "              [ 0.,  0., -1.,  0.,  0.,  0.,  0., -1., -1.,  0.,  1.,  0.],\n",
        "              [ 0.,  0.,  0.,  0.,  0., -1.,  0.,  0.,  0., -1., -1.,  1.],\n",
        "              [ 0.,  0.,  0.,  0.,  0.,  0.,  0.,  0.,  0.,  0.,  0., -1.]])\n",
        "m, n = A.shape\n",
        "d = np.array([22., 29., 24., 22., 17., 26., 18., 36., 39., 15., 32., 21.])"
      ]
    },
    {
      "cell_type": "code",
      "execution_count": null,
      "metadata": {
        "id": "uF9LecZI82XN"
      },
      "outputs": [],
      "source": [
        "def solve_project_management(A, d):\n",
        "  # Define and solve problem\n",
        "\n",
        "  return y_sol, x_sol, obj_val\n",
        "\n",
        "y_sol, x_sol, obj_val = solve_project_management(A, d)\n",
        "print(\"y = \", y_sol)\n",
        "print(\"x = \", x_sol)\n",
        "print(\"objective = \", obj_val)"
      ]
    },
    {
      "cell_type": "markdown",
      "metadata": {
        "id": "XqLner6g82XO"
      },
      "source": [
        "3. Derive the dual problem in terms of $x\\in \\mathbf{R}^{n}$."
      ]
    },
    {
      "cell_type": "markdown",
      "metadata": {
        "id": "8zRILh2282XO"
      },
      "source": [
        "4. Consider the case when we have a faster machine to complete task $7$ such that the new time is $d_7 - 2$ (`d[6] - 2` in the code). How would the optimal objective change? Show it by solving the same problem with the function in point 2. Also, show that you can obtain the same results by looking at the dual solutions."
      ]
    },
    {
      "cell_type": "code",
      "execution_count": null,
      "metadata": {
        "id": "oYAt_Xbg82XO"
      },
      "outputs": [],
      "source": [
        "# Compute new d\n",
        "# d_new = ...\n",
        "\n",
        "# Solve problem on d_new using solve_project_management function.\n",
        "# ...\n",
        "\n",
        "# Compare result using dual solutions\n",
        "# ..."
      ]
    },
    {
      "cell_type": "markdown",
      "metadata": {
        "id": "TJiP2UHo82XP"
      },
      "source": [
        "5. Show that the dual problem corresponds to a minimum cost network flow problem. Solve the minimum cost network flow problem using cvxpy. Print the optimal solution `x_nf` and the optimal objective `obj_nf`."
      ]
    },
    {
      "cell_type": "code",
      "execution_count": null,
      "metadata": {
        "id": "97mQ0gqk82XP"
      },
      "outputs": [],
      "source": [
        "def solve_min_cost_network_flow(A, d):\n",
        "  # Define and solve problem\n",
        "\n",
        "  return x_nf, y_nf, obj_nf\n",
        "\n",
        "x_nf, y_nf, obj_nf = solve_min_cost_network_flow(A, d)\n",
        "print(\"x = \", x_nf)\n",
        "print(\"objective = \", obj_nf)"
      ]
    },
    {
      "cell_type": "markdown",
      "metadata": {
        "id": "3Zl31EwC82XQ"
      },
      "source": [
        "The following function shows a graph of the resulting minimum cost flow solution `x` using `networkx`. It is not necessary to use it but it might help you visualize the solution."
      ]
    },
    {
      "cell_type": "code",
      "execution_count": null,
      "metadata": {
        "id": "BC2vw49v82XR"
      },
      "outputs": [],
      "source": [
        "def show_optimal_solution(x, d):\n",
        "    G = nx.DiGraph()\n",
        "\n",
        "    # Add nodes\n",
        "    G.add_nodes_from(range(8))\n",
        "\n",
        "    # Add edges\n",
        "    G.add_edge(0, 1, cost=-d[0])\n",
        "    G.add_edge(0, 2, cost=-d[1])\n",
        "    G.add_edge(0, 5, cost=-d[2])\n",
        "    G.add_edge(1, 3, cost=-d[3])\n",
        "    G.add_edge(1, 4, cost=-d[4])\n",
        "    G.add_edge(1, 6, cost=-d[5])\n",
        "    G.add_edge(2, 4, cost=-d[6])\n",
        "    G.add_edge(3, 5, cost=-d[7])\n",
        "    G.add_edge(4, 5, cost=-d[8])\n",
        "    G.add_edge(4, 6, cost=-d[9])\n",
        "    G.add_edge(5, 6, cost=-d[10])\n",
        "    G.add_edge(6, 7, cost=-d[11])\n",
        "    \n",
        "    fig, ax = plt.subplots(1, 1, figsize=(15, 10))\n",
        "    cmap = plt.cm.Blues\n",
        "\n",
        "    # Node positions in 2d plot\n",
        "    layout = {0: np.array([0.0, 0.0]),\n",
        "              1: np.array([0.5, 0.5]),\n",
        "              2: np.array([0.5, -0.5]),\n",
        "              3: np.array([1.0, 0.5]),\n",
        "              4: np.array([1.0, -0.5]),\n",
        "              5: np.array([1.5, 0.0]),\n",
        "              6: np.array([2.0, 0.0]),\n",
        "              7: np.array([2.5, 0.0]),\n",
        "             }\n",
        "    nx.draw_networkx_nodes(G, layout, node_color='w', edgecolors='k', node_size=2000)\n",
        "\n",
        "    # Draw edges\n",
        "    nx.draw_networkx_edges(G, layout, edge_cmap=cmap, edge_color=x, \n",
        "                           width=2, arrowsize=30, min_target_margin=20)\n",
        "\n",
        "    # Print colormap\n",
        "    sm = plt.cm.ScalarMappable(cmap=cmap, \n",
        "                               norm=plt.Normalize(vmin=0, vmax=1)\n",
        "                              )\n",
        "    cbar = plt.colorbar(sm)\n",
        "\n",
        "    labels = {l:l for l in range(8)}\n",
        "    nx.draw_networkx_labels(G, layout, labels, font_family='serif', font_size=18)\n",
        "    \n",
        "    # draw cost\n",
        "    costs = nx.get_edge_attributes(G, \"cost\")\n",
        "\n",
        "    nx.draw_networkx_edge_labels(G, layout, costs)\n",
        "\n",
        "    plt.show()\n",
        "    \n",
        "show_optimal_solution(x_nf, d)"
      ]
    },
    {
      "cell_type": "markdown",
      "metadata": {
        "id": "xai6mjQR82XR"
      },
      "source": [
        "6. Which of special examples of minimum cost network flow does the dual problem correspond to? What is the cost associated to each arc? *Hint.* No need to specify upper bounds on $x$ since they are automatically satisfied in this case."
      ]
    },
    {
      "cell_type": "markdown",
      "metadata": {
        "id": "CJNiooVc82XS"
      },
      "source": [
        "7. Let's go back to the project management problem from point 1. Consider the case when the milestone times $y_j$ must be multiples of 15 minutes and $y_1 = 0$ (i.e., we start the project at time $0$. Formulate the problem as a mixed-integer optimization problem."
      ]
    },
    {
      "cell_type": "markdown",
      "metadata": {
        "id": "RZmsffiQ82XS"
      },
      "source": [
        "8. Solve the new project management problem. Print optimal solution and objective value. Compare the objective to the one from point 1. Which one is larger? Explain why."
      ]
    },
    {
      "cell_type": "code",
      "execution_count": null,
      "metadata": {
        "id": "uPd-S85B82XS"
      },
      "outputs": [],
      "source": [
        "def solve_project_management_integer(A, d):\n",
        "  # Define and solve problem\n",
        "\n",
        "  return y_sol, x_sol, obj_val\n",
        "\n",
        "y_sol_int, x_sol_int, obj_val_int = solve_project_management_integer(A, d)\n",
        "print(\"y = \", y_sol_int)\n",
        "print(\"objective = \", obj_val_int)"
      ]
    },
    {
      "cell_type": "markdown",
      "metadata": {
        "id": "rhzRNpKL82XT"
      },
      "source": [
        "9. Our project was scheduled to complete within $1$ hour and $30$ minutes. However, we have a few milestones that cannot be completed on time. For each milestone that is above the supposed completion time (in minutes), we pay a price of $50$ mln USD. Adapt problem at point 7. to minimize the total project time plus the price we pay (in mln USD) for each milestone above the suppose completion time."
      ]
    },
    {
      "cell_type": "markdown",
      "metadata": {
        "id": "cFlBCGD_82XT"
      },
      "source": [
        "10. Solve the new problem in cvxpy. Print the optimal solution and objective value. Is the objective different than in point 8.? Is the solution different? Explain why."
      ]
    },
    {
      "cell_type": "code",
      "execution_count": null,
      "metadata": {
        "id": "m9AvSbWs82XT"
      },
      "outputs": [],
      "source": [
        "def solve_project_management_integer_count(A, d):\n",
        "  # Define and solve problem\n",
        "\n",
        "  return y_sol, x_sol, obj_val\n",
        "\n",
        "y_sol_int_count, x_sol_int_count, obj_val_int_count = solve_project_management_integer_count(A, d)\n",
        "print(\"y = \", y_sol_int_count)\n",
        "print(\"objective = \", obj_val_int_count)"
      ]
    }
  ],
  "metadata": {
    "kernelspec": {
      "display_name": "Python 3",
      "language": "python",
      "name": "python3"
    },
    "language_info": {
      "codemirror_mode": {
        "name": "ipython",
        "version": 3
      },
      "file_extension": ".py",
      "mimetype": "text/x-python",
      "name": "python",
      "nbconvert_exporter": "python",
      "pygments_lexer": "ipython3",
      "version": "3.7.2"
    },
    "colab": {
      "provenance": [],
      "include_colab_link": true
    }
  },
  "nbformat": 4,
  "nbformat_minor": 0
}